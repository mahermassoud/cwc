{
 "cells": [
  {
   "cell_type": "markdown",
   "metadata": {},
   "source": [
    "# DAVID tester\n",
    "## Tests use of accessing DAVID databse for CwC project\n",
    "\n",
    "Code here is largely based on code that came with DAVID Python API"
   ]
  },
  {
   "cell_type": "code",
   "execution_count": 44,
   "metadata": {
    "collapsed": false
   },
   "outputs": [
    {
     "name": "stdout",
     "output_type": "stream",
     "text": [
      "Client authenticated?\n",
      "true\n"
     ]
    }
   ],
   "source": [
    "# Import dependecies and authenticate client\n",
    "import ssl\n",
    "ssl._create_default_https_context = ssl._create_unverified_context\n",
    "\n",
    "import sys\n",
    "sys.path.append('../')\n",
    "\n",
    "import logging\n",
    "import traceback as tb\n",
    "import suds.metrics as metrics\n",
    "from tests import *\n",
    "from suds import *\n",
    "from suds.client import Client\n",
    "from datetime import datetime\n",
    "\n",
    "import pandas as pd\n",
    "import html5lib\n",
    "\n",
    "errors = 0\n",
    "\n",
    "setup_logging()\n",
    "\n",
    "logging.getLogger('suds.client').setLevel(logging.CRITICAL)\n",
    "\n",
    "url = 'https://david.abcc.ncifcrf.gov/webservice/services/DAVIDWebService?wsdl'\n",
    "    \n",
    "# Create a service client using the wsdl.\n",
    "client = Client(url)\n",
    "client.wsdl.services[0].setlocation('https://david.ncifcrf.gov/webservice/services/DAVIDWebService.DAVIDWebServiceHttpSoap11Endpoint/')\n",
    "\n",
    "# Authenticate user email \n",
    "print \"Client authenticated?\"\n",
    "print client.service.authenticate('mamaher@ucsd.edu')"
   ]
  },
  {
   "cell_type": "code",
   "execution_count": 45,
   "metadata": {
    "collapsed": false
   },
   "outputs": [],
   "source": [
    "# Prepare a list of genes\n",
    "text_file = open(\"gene_list.txt\", \"r\")\n",
    "\n",
    "inputIds = text_file.read()\n",
    "idType = 'OFFICIAL_GENE_SYMBOL'\n",
    "listName = 'make_up'\n",
    "listType = 1"
   ]
  },
  {
   "cell_type": "code",
   "execution_count": 46,
   "metadata": {
    "collapsed": false
   },
   "outputs": [
    {
     "name": "stdout",
     "output_type": "stream",
     "text": [
      "-1.0\n",
      "getCurrentList: 0\n",
      "getAllListNames: None\n"
     ]
    },
    {
     "data": {
      "text/plain": [
       "'\\n# getChartReport\\nthd=0.1\\ncount = 2\\nprint client.service.getChartReport(thd, count)\\n\\n# getTermClusterReport\\noverlap=3\\ninitialSeed = 3\\nfinalSeed = 3\\nlinkage = 0.5\\nkappa = 20 \\nprint client.service.getTermClusterReport(overlap, initialSeed, finalSeed, linkage, kappa)\\n'"
      ]
     },
     "execution_count": 46,
     "metadata": {},
     "output_type": "execute_result"
    }
   ],
   "source": [
    "# Read list and run analysis on those genes\n",
    "print client.service.addList(inputIds, idType, listName, listType)\n",
    "\n",
    "#print client.service.getDefaultCategoryNames()\n",
    "print \"getCurrentList: \" + str(client.service.getCurrentList())\n",
    "print \"getAllListNames: \" + str(client.service.getAllListNames())\n",
    "\n",
    "\"\"\"\n",
    "# getChartReport\n",
    "thd=0.1\n",
    "count = 2\n",
    "print client.service.getChartReport(thd, count)\n",
    "\n",
    "# getTermClusterReport\n",
    "overlap=3\n",
    "initialSeed = 3\n",
    "finalSeed = 3\n",
    "linkage = 0.5\n",
    "kappa = 20 \n",
    "print client.service.getTermClusterReport(overlap, initialSeed, finalSeed, linkage, kappa)\n",
    "\"\"\""
   ]
  },
  {
   "cell_type": "code",
   "execution_count": 47,
   "metadata": {
    "collapsed": false
   },
   "outputs": [
    {
     "ename": "ImportError",
     "evalue": "html5lib not found, please install it",
     "output_type": "error",
     "traceback": [
      "\u001b[0;31m---------------------------------------------------------------------------\u001b[0m",
      "\u001b[0;31mImportError\u001b[0m                               Traceback (most recent call last)",
      "\u001b[0;32m<ipython-input-47-8618b9e16335>\u001b[0m in \u001b[0;36m<module>\u001b[0;34m()\u001b[0m\n\u001b[1;32m      6\u001b[0m \u001b[0;32mimport\u001b[0m \u001b[0mhtml5lib\u001b[0m\u001b[0;34m\u001b[0m\u001b[0m\n\u001b[1;32m      7\u001b[0m \u001b[0;34m\u001b[0m\u001b[0m\n\u001b[0;32m----> 8\u001b[0;31m \u001b[0mtable\u001b[0m \u001b[0;34m=\u001b[0m \u001b[0mpd\u001b[0m\u001b[0;34m.\u001b[0m\u001b[0mread_html\u001b[0m\u001b[0;34m(\u001b[0m\u001b[0;34m\"antig_table\"\u001b[0m\u001b[0;34m,\u001b[0m \u001b[0mheader\u001b[0m\u001b[0;34m=\u001b[0m\u001b[0;36m0\u001b[0m\u001b[0;34m)\u001b[0m\u001b[0;34m\u001b[0m\u001b[0m\n\u001b[0m\u001b[1;32m      9\u001b[0m \u001b[0mtable\u001b[0m\u001b[0;34m\u001b[0m\u001b[0m\n\u001b[1;32m     10\u001b[0m \u001b[0;34m\u001b[0m\u001b[0m\n",
      "\u001b[0;32m/Users/massoudmaher/anaconda/lib/python2.7/site-packages/pandas/io/html.pyc\u001b[0m in \u001b[0;36mread_html\u001b[0;34m(io, match, flavor, header, index_col, skiprows, infer_types, attrs, parse_dates, tupleize_cols, thousands, encoding)\u001b[0m\n\u001b[1;32m    863\u001b[0m                          'data (you passed a negative value)')\n\u001b[1;32m    864\u001b[0m     return _parse(flavor, io, match, header, index_col, skiprows, infer_types,\n\u001b[0;32m--> 865\u001b[0;31m                   parse_dates, tupleize_cols, thousands, attrs, encoding)\n\u001b[0m",
      "\u001b[0;32m/Users/massoudmaher/anaconda/lib/python2.7/site-packages/pandas/io/html.pyc\u001b[0m in \u001b[0;36m_parse\u001b[0;34m(flavor, io, match, header, index_col, skiprows, infer_types, parse_dates, tupleize_cols, thousands, attrs, encoding)\u001b[0m\n\u001b[1;32m    716\u001b[0m     \u001b[0mretained\u001b[0m \u001b[0;34m=\u001b[0m \u001b[0mNone\u001b[0m\u001b[0;34m\u001b[0m\u001b[0m\n\u001b[1;32m    717\u001b[0m     \u001b[0;32mfor\u001b[0m \u001b[0mflav\u001b[0m \u001b[0;32min\u001b[0m \u001b[0mflavor\u001b[0m\u001b[0;34m:\u001b[0m\u001b[0;34m\u001b[0m\u001b[0m\n\u001b[0;32m--> 718\u001b[0;31m         \u001b[0mparser\u001b[0m \u001b[0;34m=\u001b[0m \u001b[0m_parser_dispatch\u001b[0m\u001b[0;34m(\u001b[0m\u001b[0mflav\u001b[0m\u001b[0;34m)\u001b[0m\u001b[0;34m\u001b[0m\u001b[0m\n\u001b[0m\u001b[1;32m    719\u001b[0m         \u001b[0mp\u001b[0m \u001b[0;34m=\u001b[0m \u001b[0mparser\u001b[0m\u001b[0;34m(\u001b[0m\u001b[0mio\u001b[0m\u001b[0;34m,\u001b[0m \u001b[0mcompiled_match\u001b[0m\u001b[0;34m,\u001b[0m \u001b[0mattrs\u001b[0m\u001b[0;34m,\u001b[0m \u001b[0mencoding\u001b[0m\u001b[0;34m)\u001b[0m\u001b[0;34m\u001b[0m\u001b[0m\n\u001b[1;32m    720\u001b[0m \u001b[0;34m\u001b[0m\u001b[0m\n",
      "\u001b[0;32m/Users/massoudmaher/anaconda/lib/python2.7/site-packages/pandas/io/html.pyc\u001b[0m in \u001b[0;36m_parser_dispatch\u001b[0;34m(flavor)\u001b[0m\n\u001b[1;32m    661\u001b[0m     \u001b[0;32mif\u001b[0m \u001b[0mflavor\u001b[0m \u001b[0;32min\u001b[0m \u001b[0;34m(\u001b[0m\u001b[0;34m'bs4'\u001b[0m\u001b[0;34m,\u001b[0m \u001b[0;34m'html5lib'\u001b[0m\u001b[0;34m)\u001b[0m\u001b[0;34m:\u001b[0m\u001b[0;34m\u001b[0m\u001b[0m\n\u001b[1;32m    662\u001b[0m         \u001b[0;32mif\u001b[0m \u001b[0;32mnot\u001b[0m \u001b[0m_HAS_HTML5LIB\u001b[0m\u001b[0;34m:\u001b[0m\u001b[0;34m\u001b[0m\u001b[0m\n\u001b[0;32m--> 663\u001b[0;31m             \u001b[0;32mraise\u001b[0m \u001b[0mImportError\u001b[0m\u001b[0;34m(\u001b[0m\u001b[0;34m\"html5lib not found, please install it\"\u001b[0m\u001b[0;34m)\u001b[0m\u001b[0;34m\u001b[0m\u001b[0m\n\u001b[0m\u001b[1;32m    664\u001b[0m         \u001b[0;32mif\u001b[0m \u001b[0;32mnot\u001b[0m \u001b[0m_HAS_BS4\u001b[0m\u001b[0;34m:\u001b[0m\u001b[0;34m\u001b[0m\u001b[0m\n\u001b[1;32m    665\u001b[0m             \u001b[0;32mraise\u001b[0m \u001b[0mImportError\u001b[0m\u001b[0;34m(\u001b[0m\u001b[0;34m\"BeautifulSoup4 (bs4) not found, please install it\"\u001b[0m\u001b[0;34m)\u001b[0m\u001b[0;34m\u001b[0m\u001b[0m\n",
      "\u001b[0;31mImportError\u001b[0m: html5lib not found, please install it"
     ]
    }
   ],
   "source": [
    "# Currently does not work, is in different notebook titled \"export_table\"\n",
    "# For reading in HTML table \n",
    "# eg. from bioCARTA, eg. http://cgap.nci.nih.gov/Genes/PathGeneQuery?PAGE=1&ORG=Hs&PATH=h_At1rPathway\n",
    "\n",
    "import pandas as pd\n",
    "import html5lib\n",
    "\n",
    "table = pd.read_html(\"antig_table\", header=0)\n",
    "table\n",
    "\n",
    "df_table = table[0]\n",
    "df_table\n",
    "\n",
    "genes = df_table[\"Symbol\"]\n",
    "genes\n",
    "\n",
    "gene_string = \"\"\n",
    "for gene in genes:\n",
    "    if(gene != \"-\"):\n",
    "        gene_string += gene + \",\"\n",
    "\n",
    "gene_string = gene_string[:len(gene_string) - 1]\n",
    "\n",
    "print gene_string"
   ]
  }
 ],
 "metadata": {
  "kernelspec": {
   "display_name": "Python 2",
   "language": "python",
   "name": "python2"
  },
  "language_info": {
   "codemirror_mode": {
    "name": "ipython",
    "version": 2
   },
   "file_extension": ".py",
   "mimetype": "text/x-python",
   "name": "python",
   "nbconvert_exporter": "python",
   "pygments_lexer": "ipython2",
   "version": "2.7.10"
  }
 },
 "nbformat": 4,
 "nbformat_minor": 0
}
