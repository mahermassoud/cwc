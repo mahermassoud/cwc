{
 "cells": [
  {
   "cell_type": "markdown",
   "metadata": {},
   "source": [
    "# DAVID tester\n",
    "## Tests use of accessing DAVID databse for CwC project\n",
    "\n",
    "Code here is largely based on code that came with DAVID Python API"
   ]
  },
  {
   "cell_type": "code",
   "execution_count": 35,
   "metadata": {
    "collapsed": false
   },
   "outputs": [
    {
     "name": "stdout",
     "output_type": "stream",
     "text": [
      "Client authenticated?\n",
      "true\n"
     ]
    }
   ],
   "source": [
    "# Import dependecies and authenticate client\n",
    "import ssl\n",
    "ssl._create_default_https_context = ssl._create_unverified_context\n",
    "\n",
    "import sys\n",
    "sys.path.append('../')\n",
    "\n",
    "import logging\n",
    "import traceback as tb\n",
    "import suds.metrics as metrics\n",
    "from tests import *\n",
    "from suds import *\n",
    "from suds.client import Client\n",
    "from datetime import datetime\n",
    "\n",
    "import pandas as pd\n",
    "import html5lib\n",
    "\n",
    "errors = 0\n",
    "\n",
    "setup_logging()\n",
    "\n",
    "logging.getLogger('suds.client').setLevel(logging.NOTSET)\n",
    "\n",
    "url = 'https://david.abcc.ncifcrf.gov/webservice/services/DAVIDWebService?wsdl'\n",
    "    \n",
    "# Create a service client using the wsdl.\n",
    "client = Client(url)\n",
    "client.wsdl.services[0].setlocation('https://david.ncifcrf.gov/webservice/services/DAVIDWebService.DAVIDWebServiceHttpSoap11Endpoint/')\n",
    "\n",
    "# Authenticate user email \n",
    "print \"Client authenticated?\"\n",
    "print client.service.authenticate('mamaher@ucsd.edu')"
   ]
  },
  {
   "cell_type": "code",
   "execution_count": 36,
   "metadata": {
    "collapsed": false
   },
   "outputs": [
    {
     "data": {
      "text/plain": [
       "'NM_000029,NM_031850,NM_000685,NM_004835,NM_009585,NM_032049,M87290,NM_001256090,NM_001880,NM_001256091,NM_001256093,NM_001256092,NM_001256094,NM_006888,NM_001743,NM_005184,NM_005228,NM_201284,NM_201282,NM_201283,NM_001114123,NM_005229,NM_001257168,NM_002072,NM_002086,NM_203506,NM_176795,NM_001130442,NM_005343,NM_002228,NM_002755,NM_030662,NM_003010,NM_005921,NM_002745,NM_138957,NM_001040056,NM_002746,NM_001109891,NM_002750,NM_139046,NM_139049,NM_139047,NM_001171894,NM_005587,NM_001130926,NM_001130927,NM_001130928,NM_002397,NM_001193350,NM_001193347,NM_001131005,NM_001193348,NM_001193349,NM_005920,NM_001128620,NM_002576,NM_002737,AK055431,NM_002738,NM_212535,NM_001199649,NM_153831,NM_005607,NM_173174,NM_004103,NM_173176,NM_173175,NM_018890,NM_006908,NM_002880,NM_001130040,NM_183001,NM_003029,NM_001130041,NM_001202859,NM_005633,AL833457,NM_005417,NM_198291,BQ218507,BQ877285,BF795331,BG682876,'"
      ]
     },
     "execution_count": 36,
     "metadata": {},
     "output_type": "execute_result"
    }
   ],
   "source": [
    "# Prepare a list of genes\n",
    "text_file = open(\"gene_list.txt\", \"r\")\n",
    "\n",
    "inputIds = text_file.read()\n",
    "idType = 'ENTREZ_GENE_ID'\n",
    "listName = 'make_up'\n",
    "listType = 500\n",
    "inputIds"
   ]
  },
  {
   "cell_type": "code",
   "execution_count": 37,
   "metadata": {
    "collapsed": false
   },
   "outputs": [
    {
     "name": "stdout",
     "output_type": "stream",
     "text": [
      "Client authenticated?\n",
      "true\n",
      "addList: 1.0\n",
      "getCurrentList: 0\n",
      "getAllListNames: None\n"
     ]
    },
    {
     "data": {
      "text/plain": [
       "'\\n# getChartReport\\nthd=0.1\\ncount = 2\\nprint client.service.getChartReport(thd, count)\\n\\n# getTermClusterReport\\noverlap=3\\ninitialSeed = 3\\nfinalSeed = 3\\nlinkage = 0.5\\nkappa = 20 \\nprint client.service.getTermClusterReport(overlap, initialSeed, finalSeed, linkage, kappa)\\n'"
      ]
     },
     "execution_count": 37,
     "metadata": {},
     "output_type": "execute_result"
    }
   ],
   "source": [
    "print \"Client authenticated?\"\n",
    "print client.service.authenticate('mamaher@ucsd.edu')\n",
    "\n",
    "# Read list and run analysis on those genes\n",
    "inputIds = \"183,185,1386\"\n",
    "print \"addList: \" + str(client.service.addList(inputIds, idType, listName, listType))\n",
    "\n",
    "#print client.service.getDefaultCategoryNames()\n",
    "print \"getCurrentList: \" + str(client.service.getCurrentList())\n",
    "print \"getAllListNames: \" + str(client.service.getAllListNames())\n",
    "\n",
    "\"\"\"\n",
    "# getChartReport\n",
    "thd=0.1\n",
    "count = 2\n",
    "print client.service.getChartReport(thd, count)\n",
    "\n",
    "# getTermClusterReport\n",
    "overlap=3\n",
    "initialSeed = 3\n",
    "finalSeed = 3\n",
    "linkage = 0.5\n",
    "kappa = 20 \n",
    "print client.service.getTermClusterReport(overlap, initialSeed, finalSeed, linkage, kappa)\n",
    "\"\"\""
   ]
  },
  {
   "cell_type": "code",
   "execution_count": 38,
   "metadata": {
    "collapsed": false
   },
   "outputs": [
    {
     "name": "stdout",
     "output_type": "stream",
     "text": [
      "AGT,AGTR1,AGTR1,ATF2,CALM1,CALM2,CALM3,EGFR,ELK1,GNAQ,GRB2,HRAS,JUN,MAP2K1,MAP2K2,MAP2K4,MAP3K1,MAPK1,MAPK3,MAPK8,MEF2A,MEF2C,MEF2D,PAK1,PRKCA,PRKCA,PRKCB,PTK2,PTK2B,RAC1,RAF1,SHC1,SOS1,SOS1,SRC\n"
     ]
    }
   ],
   "source": [
    "# Currently does not work, is in different notebook titled \"export_table\"\n",
    "# For reading in HTML table \n",
    "# eg. from bioCARTA, eg. http://cgap.nci.nih.gov/Genes/PathGeneQuery?PAGE=1&ORG=Hs&PATH=h_At1rPathway\n",
    "\n",
    "import pandas as pd\n",
    "import html5lib\n",
    "\n",
    "table = pd.read_html(\"antig_table\", header=0)\n",
    "table\n",
    "\n",
    "df_table = table[0]\n",
    "df_table\n",
    "\n",
    "genes = df_table[\"Symbol\"]\n",
    "genes\n",
    "\n",
    "gene_string = \"\"\n",
    "for gene in genes:\n",
    "    if(gene != \"-\"):\n",
    "        gene_string += gene + \",\"\n",
    "\n",
    "gene_string = gene_string[:len(gene_string) - 1]\n",
    "\n",
    "print gene_string\n",
    "\n",
    "text_file = open(\"official_gene_list.txt\", \"w\")"
   ]
  },
  {
   "cell_type": "code",
   "execution_count": null,
   "metadata": {
    "collapsed": true
   },
   "outputs": [],
   "source": []
  }
 ],
 "metadata": {
  "kernelspec": {
   "display_name": "Python 2",
   "language": "python",
   "name": "python2"
  },
  "language_info": {
   "codemirror_mode": {
    "name": "ipython",
    "version": 2
   },
   "file_extension": ".py",
   "mimetype": "text/x-python",
   "name": "python",
   "nbconvert_exporter": "python",
   "pygments_lexer": "ipython2",
   "version": "2.7.10"
  }
 },
 "nbformat": 4,
 "nbformat_minor": 0
}
