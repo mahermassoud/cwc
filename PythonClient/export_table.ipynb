{
 "cells": [
  {
   "cell_type": "code",
   "execution_count": 39,
   "metadata": {
    "collapsed": false
   },
   "outputs": [
    {
     "name": "stdout",
     "output_type": "stream",
     "text": [
      "['NM_000029', 'NM_031850', 'NM_000685', 'NM_004835', 'NM_009585', 'NM_032049', 'M87290', 'NM_001256090', 'NM_001880', 'NM_001256091', 'NM_001256093', 'NM_001256092', 'NM_001256094', 'NM_006888', 'NM_001743', 'NM_005184', 'NM_005228', 'NM_201284', 'NM_201282', 'NM_201283', 'NM_001114123', 'NM_005229', 'NM_001257168', 'NM_002072', 'NM_002086', 'NM_203506', 'NM_176795', 'NM_001130442', 'NM_005343', 'NM_002228', 'NM_002755', 'NM_030662', 'NM_003010', 'NM_005921', 'NM_002745', 'NM_138957', 'NM_001040056', 'NM_002746', 'NM_001109891', 'NM_002750', 'NM_139046', 'NM_139049', 'NM_139047', 'NM_001171894', 'NM_005587', 'NM_001130926', 'NM_001130927', 'NM_001130928', 'NM_002397', 'NM_001193350', 'NM_001193347', 'NM_001131005', 'NM_001193348', 'NM_001193349', 'NM_005920', 'NM_001128620', 'NM_002576', 'NM_002737', 'AK055431', 'NM_002738', 'NM_212535', 'NM_001199649', 'NM_153831', 'NM_005607', 'NM_173174', 'NM_004103', 'NM_173176', 'NM_173175', 'NM_018890', 'NM_006908', 'NM_002880', 'NM_001130040', 'NM_183001', 'NM_003029', 'NM_001130041', 'NM_001202859', 'NM_005633', 'AL833457', 'NM_005417', 'NM_198291', 'BQ218507', 'BQ877285', 'BF795331', 'BG682876']\n"
     ]
    }
   ],
   "source": [
    "import pandas as pd\n",
    "import html5lib\n",
    "\n",
    "table = pd.read_html(\"antig_table\", header=0)\n",
    "table\n",
    "\n",
    "df_table = table[0]\n",
    "df_table\n",
    "\n",
    "genes = df_table[\"Sequence ID\"]\n",
    "genes\n",
    "\n",
    "gene_string = \"\"\n",
    "\"\"\"\n",
    "for gene_block in genes:\n",
    "    gene_block.split('\\n')\n",
    "    print gene_block\n",
    "    for gene in gene_block:\n",
    "        if(gene != \"-\"):\n",
    "            gene_string += gene + \",\"\n",
    "\"\"\"\n",
    "all_genes = []\n",
    "for gene_block in genes:\n",
    "    gene_block = str(gene_block)\n",
    "    for i,c in enumerate(gene_block):\n",
    "        if( i-1 >= 0 and gene_block[i-1].isdigit() and gene_block[i].isalpha()):\n",
    "            gene_block = gene_block[:i] + \",\" + gene_block[i:]\n",
    "    #print gene_block\n",
    "    individual_genes = gene_block.split(\",\")\n",
    "    all_genes += individual_genes\n",
    "\n",
    "print all_genes\n",
    "#all_genes = str(all_genes)\n",
    "#gene_string = gene_string[:len(gene_string) - 1]\n",
    "\n",
    "#print gene_string"
   ]
  },
  {
   "cell_type": "code",
   "execution_count": 43,
   "metadata": {
    "collapsed": false
   },
   "outputs": [],
   "source": [
    "text_file = open(\"gene_list.txt\", \"w\")\n",
    "for gene_id in all_genes:\n",
    "    text_file.write(gene_id + \",\")\n",
    "\n",
    "text_file.close()"
   ]
  },
  {
   "cell_type": "code",
   "execution_count": null,
   "metadata": {
    "collapsed": true
   },
   "outputs": [],
   "source": []
  }
 ],
 "metadata": {
  "kernelspec": {
   "display_name": "Python 2",
   "language": "python",
   "name": "python2"
  },
  "language_info": {
   "codemirror_mode": {
    "name": "ipython",
    "version": 2
   },
   "file_extension": ".py",
   "mimetype": "text/x-python",
   "name": "python",
   "nbconvert_exporter": "python",
   "pygments_lexer": "ipython2",
   "version": "2.7.10"
  }
 },
 "nbformat": 4,
 "nbformat_minor": 0
}
