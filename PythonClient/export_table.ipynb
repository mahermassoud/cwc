{
 "cells": [
  {
   "cell_type": "code",
   "execution_count": 12,
   "metadata": {
    "collapsed": false
   },
   "outputs": [
    {
     "name": "stdout",
     "output_type": "stream",
     "text": [
      "AGT,AGTR1,AGTR1,ATF2,CALM1,CALM2,CALM3,EGFR,ELK1,GNAQ,GRB2,HRAS,JUN,MAP2K1,MAP2K2,MAP2K4,MAP3K1,MAPK1,MAPK3,MAPK8,MEF2A,MEF2C,MEF2D,PAK1,PRKCA,PRKCA,PRKCB,PTK2,PTK2B,RAC1,RAF1,SHC1,SOS1,SOS1,SRC\n"
     ]
    }
   ],
   "source": [
    "import pandas as pd\n",
    "import html5lib\n",
    "\n",
    "table = pd.read_html(\"antig_table\", header=0)\n",
    "table\n",
    "\n",
    "df_table = table[0]\n",
    "df_table\n",
    "\n",
    "genes = df_table[\"Symbol\"]\n",
    "genes\n",
    "\n",
    "gene_string = \"\"\n",
    "for gene in genes:\n",
    "    if(gene != \"-\"):\n",
    "        gene_string += gene + \",\"\n",
    "\n",
    "gene_string = gene_string[:len(gene_string) - 1]\n",
    "\n",
    "print gene_string"
   ]
  },
  {
   "cell_type": "code",
   "execution_count": 13,
   "metadata": {
    "collapsed": true
   },
   "outputs": [],
   "source": [
    "text_file = open(\"gene_list.txt\", \"w\")\n",
    "text_file.write(gene_string)\n",
    "text_file.close()"
   ]
  },
  {
   "cell_type": "code",
   "execution_count": null,
   "metadata": {
    "collapsed": true
   },
   "outputs": [],
   "source": []
  }
 ],
 "metadata": {
  "kernelspec": {
   "display_name": "Python 2",
   "language": "python",
   "name": "python2"
  },
  "language_info": {
   "codemirror_mode": {
    "name": "ipython",
    "version": 2
   },
   "file_extension": ".py",
   "mimetype": "text/x-python",
   "name": "python",
   "nbconvert_exporter": "python",
   "pygments_lexer": "ipython2",
   "version": "2.7.10"
  }
 },
 "nbformat": 4,
 "nbformat_minor": 0
}
