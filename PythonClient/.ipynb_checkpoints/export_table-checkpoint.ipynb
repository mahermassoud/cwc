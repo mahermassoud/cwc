{
 "cells": [
  {
   "cell_type": "code",
   "execution_count": 4,
   "metadata": {
    "collapsed": false
   },
   "outputs": [
    {
     "name": "stdout",
     "output_type": "stream",
     "text": [
      "NM_000029,NM_031850NM_000685NM_004835NM_009585NM_032049,M87290,NM_001256090NM_001880NM_001256091NM_001256093NM_001256092NM_001256094,NM_006888,NM_001743,NM_005184,NM_005228NM_201284NM_201282NM_201283,NM_001114123NM_005229NM_001257168,NM_002072,NM_002086NM_203506,NM_176795NM_001130442NM_005343,NM_002228,NM_002755,NM_030662,NM_003010,NM_005921,NM_002745NM_138957,NM_001040056NM_002746NM_001109891,NM_002750NM_139046NM_139049NM_139047,NM_001171894NM_005587NM_001130926NM_001130927NM_001130928,NM_002397NM_001193350NM_001193347NM_001131005NM_001193348NM_001193349,NM_005920,NM_001128620NM_002576,NM_002737,AK055431,NM_002738NM_212535,NM_001199649NM_153831NM_005607,NM_173174NM_004103NM_173176NM_173175,NM_018890NM_006908,NM_002880,NM_001130040NM_183001NM_003029NM_001130041NM_001202859,NM_005633,AL833457,NM_005417NM_198291,BQ218507,BQ877285,BF795331,BG682876\n"
     ]
    }
   ],
   "source": [
    "import pandas as pd\n",
    "import html5lib\n",
    "\n",
    "table = pd.read_html(\"antig_table\", header=0)\n",
    "table\n",
    "\n",
    "df_table = table[0]\n",
    "df_table\n",
    "\n",
    "genes = df_table[\"Sequence ID\"]\n",
    "genes\n",
    "\n",
    "gene_string = \"\"\n",
    "for gene in genes:\n",
    "    if(gene != \"-\"):\n",
    "        gene_string += gene + \",\"\n",
    "\n",
    "gene_string = gene_string[:len(gene_string) - 1]\n",
    "\n",
    "print gene_string"
   ]
  },
  {
   "cell_type": "code",
   "execution_count": 13,
   "metadata": {
    "collapsed": true
   },
   "outputs": [],
   "source": [
    "text_file = open(\"gene_list.txt\", \"w\")\n",
    "text_file.write(gene_string)\n",
    "text_file.close()"
   ]
  },
  {
   "cell_type": "code",
   "execution_count": null,
   "metadata": {
    "collapsed": true
   },
   "outputs": [],
   "source": []
  }
 ],
 "metadata": {
  "kernelspec": {
   "display_name": "Python 2",
   "language": "python",
   "name": "python2"
  },
  "language_info": {
   "codemirror_mode": {
    "name": "ipython",
    "version": 2
   },
   "file_extension": ".py",
   "mimetype": "text/x-python",
   "name": "python",
   "nbconvert_exporter": "python",
   "pygments_lexer": "ipython2",
   "version": "2.7.10"
  }
 },
 "nbformat": 4,
 "nbformat_minor": 0
}
